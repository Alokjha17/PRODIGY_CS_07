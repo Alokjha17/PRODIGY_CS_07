{
  "nbformat": 4,
  "nbformat_minor": 0,
  "metadata": {
    "colab": {
      "provenance": [],
      "toc_visible": true
    },
    "kernelspec": {
      "name": "python3",
      "display_name": "Python 3"
    },
    "language_info": {
      "name": "python"
    }
  },
  "cells": [
    {
      "cell_type": "code",
      "execution_count": 2,
      "metadata": {
        "colab": {
          "base_uri": "https://localhost:8080/"
        },
        "id": "MyIauz0LNskT",
        "outputId": "7c2a49c8-fa5a-4e3f-d1ae-cf05f1f89d5e"
      },
      "outputs": [
        {
          "name": "stdout",
          "output_type": "stream",
          "text": [
            "Choose 'e' for encryption or 'd' for decryption: d\n",
            "Enter the message to decrypt: phhw ph lg wkh jdughq\n",
            "Enter the shift value: 3\n",
            "Decrypted message: skkz sk oj znk mgxjkt\n",
            "Do you want to perform another operation? (yes/no): yes\n",
            "Choose 'e' for encryption or 'd' for decryption: e\n",
            "Enter the message to encrypt: cybersecurity\n",
            "Enter the shift value: 3\n",
            "Encrypted message: fbehuvhfxulwb\n",
            "Do you want to perform another operation? (yes/no): yes\n",
            "Choose 'e' for encryption or 'd' for decryption: d\n",
            "Enter the message to decrypt: fbehuvhfxulwb\n",
            "Enter the shift value: 3\n",
            "Decrypted message: iehkxykiaxoze\n",
            "Do you want to perform another operation? (yes/no): no\n"
          ]
        }
      ],
      "source": [
        "def caesar_cipher(text, shift, mode):\n",
        "    result = ''\n",
        "    for char in text:\n",
        "        if char.isalpha():\n",
        "            if char.islower():\n",
        "                start = ord('a')\n",
        "            else:\n",
        "                start = ord('A')\n",
        "            shifted = (ord(char) - start + shift) % 26 + start\n",
        "            result += chr(shifted)\n",
        "        else:\n",
        "            result += char\n",
        "    return result\n",
        "\n",
        "def main():\n",
        "    while True:\n",
        "        choice = input(\"Choose 'e' for encryption or 'd' for decryption: \")\n",
        "        if choice.lower() == 'e':\n",
        "            plaintext = input(\"Enter the message to encrypt: \")\n",
        "            shift = int(input(\"Enter the shift value: \"))\n",
        "            encrypted_text = caesar_cipher(plaintext, shift, 'encrypt')\n",
        "            print(\"Encrypted message:\", encrypted_text)\n",
        "        elif choice.lower() == 'd':\n",
        "            ciphertext = input(\"Enter the message to decrypt: \")\n",
        "            shift = int(input(\"Enter the shift value: \"))\n",
        "            decrypted_text = caesar_cipher(ciphertext, shift, 'decrypt')\n",
        "            print(\"Decrypted message:\", decrypted_text)\n",
        "        else:\n",
        "            print(\"Invalid choice. Please choose 'e' or 'd'.\")\n",
        "        another = input(\"Do you want to perform another operation? (yes/no): \")\n",
        "        if another.lower() != 'yes':\n",
        "            break\n",
        "\n",
        "if __name__ == \"__main__\":\n",
        "    main()\n"
      ]
    }
  ]
}